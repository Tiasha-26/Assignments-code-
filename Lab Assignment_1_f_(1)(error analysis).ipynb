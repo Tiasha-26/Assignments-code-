{
  "nbformat": 4,
  "nbformat_minor": 0,
  "metadata": {
    "colab": {
      "provenance": [],
      "include_colab_link": true
    },
    "kernelspec": {
      "name": "python3",
      "display_name": "Python 3"
    },
    "language_info": {
      "name": "python"
    }
  },
  "cells": [
    {
      "cell_type": "markdown",
      "metadata": {
        "id": "view-in-github",
        "colab_type": "text"
      },
      "source": [
        "<a href=\"https://colab.research.google.com/github/Tiasha-26/Assignments-code-/blob/main/Lab%20Assignment_1_f_(1)(error%20analysis).ipynb\" target=\"_parent\"><img src=\"https://colab.research.google.com/assets/colab-badge.svg\" alt=\"Open In Colab\"/></a>"
      ]
    },
    {
      "cell_type": "code",
      "execution_count": null,
      "metadata": {
        "colab": {
          "base_uri": "https://localhost:8080/"
        },
        "id": "kUu4wUeqDASm",
        "outputId": "990f5a4e-ed6e-4131-e0bc-9e02efdc9e48"
      },
      "outputs": [
        {
          "output_type": "stream",
          "name": "stdout",
          "text": [
            "23 1.1920928955078125e-07\n",
            "24 1.1920928955078125e-07\n",
            "25 1.1920928955078125e-07\n",
            "26 1.1920928955078125e-07\n",
            "27 1.1920928955078125e-07\n",
            "28 1.1920928955078125e-07\n",
            "29 1.1920928955078125e-07\n",
            "30 1.1920928955078125e-07\n",
            "31 1.1920928955078125e-07\n",
            "32 1.1920928955078125e-07\n",
            "33 1.1920928955078125e-07\n",
            "34 1.1920928955078125e-07\n",
            "35 1.1920928955078125e-07\n",
            "36 1.1920928955078125e-07\n",
            "37 1.1920928955078125e-07\n",
            "38 1.1920928955078125e-07\n",
            "39 1.1920928955078125e-07\n",
            "40 1.1920928955078125e-07\n",
            "41 1.1920928955078125e-07\n",
            "42 1.1920928955078125e-07\n",
            "43 1.1920928955078125e-07\n",
            "44 1.1920928955078125e-07\n",
            "45 1.1920928955078125e-07\n",
            "46 1.1920928955078125e-07\n",
            "47 1.1920928955078125e-07\n",
            "48 1.1920928955078125e-07\n",
            "49 1.1920928955078125e-07\n",
            "50 1.1920928955078125e-07\n",
            "51 1.1920928955078125e-07\n",
            "52 1.1920928955078125e-07\n",
            "53 1.1920928955078125e-07\n",
            "54 1.1920928955078125e-07\n",
            "55 1.1920928955078125e-07\n",
            "56 1.1920928955078125e-07\n",
            "57 1.1920928955078125e-07\n",
            "58 1.1920928955078125e-07\n",
            "59 1.1920928955078125e-07\n",
            "60 1.1920928955078125e-07\n",
            "61 1.1920928955078125e-07\n",
            "62 1.1920928955078125e-07\n",
            "63 1.1920928955078125e-07\n",
            "64 1.1920928955078125e-07\n",
            "65 1.1920928955078125e-07\n",
            "66 1.1920928955078125e-07\n",
            "67 1.1920928955078125e-07\n",
            "68 1.1920928955078125e-07\n",
            "69 1.1920928955078125e-07\n",
            "70 1.1920928955078125e-07\n",
            "71 1.1920928955078125e-07\n",
            "72 1.1920928955078125e-07\n",
            "73 1.1920928955078125e-07\n",
            "74 1.1920928955078125e-07\n",
            "75 1.1920928955078125e-07\n",
            "76 1.1920928955078125e-07\n",
            "77 1.1920928955078125e-07\n",
            "78 1.1920928955078125e-07\n",
            "79 1.1920928955078125e-07\n",
            "80 1.1920928955078125e-07\n",
            "81 1.1920928955078125e-07\n",
            "82 1.1920928955078125e-07\n",
            "83 1.1920928955078125e-07\n",
            "84 1.1920928955078125e-07\n",
            "85 1.1920928955078125e-07\n",
            "86 1.1920928955078125e-07\n",
            "87 1.1920928955078125e-07\n",
            "88 1.1920928955078125e-07\n",
            "89 1.1920928955078125e-07\n",
            "90 1.1920928955078125e-07\n",
            "91 1.1920928955078125e-07\n",
            "92 1.1920928955078125e-07\n",
            "93 1.1920928955078125e-07\n",
            "94 1.1920928955078125e-07\n",
            "95 1.1920928955078125e-07\n",
            "96 1.1920928955078125e-07\n",
            "97 1.1920928955078125e-07\n",
            "98 1.1920928955078125e-07\n"
          ]
        }
      ],
      "source": [
        "import numpy as np\n",
        "s=np.float32(1.0)                     #problem 1 for single precision\n",
        "for k in range(1,100):                #finding the smallest number represented by computer\n",
        "  s=0.5*s\n",
        "  t=np.float32(s+1.0)\n",
        "  if (t<=1.0):\n",
        "    s=2.0*s\n",
        "    print(k-1,  s)\n",
        ""
      ]
    },
    {
      "cell_type": "code",
      "source": [
        "import numpy as np\n",
        "s=np.float64(1.0)                     #problem 1 for double precision\n",
        "for k in range(1,100):\n",
        "  s=0.5*s\n",
        "  t=np.float64(s+1.0)\n",
        "  if (t<=1.0):\n",
        "    s=2.0*s\n",
        "    print(k-1,  s)"
      ],
      "metadata": {
        "colab": {
          "base_uri": "https://localhost:8080/"
        },
        "id": "4SxjQrVADYLk",
        "outputId": "f564c003-1854-47d8-b565-33a1939055be"
      },
      "execution_count": null,
      "outputs": [
        {
          "output_type": "stream",
          "name": "stdout",
          "text": [
            "52 2.220446049250313e-16\n",
            "53 2.220446049250313e-16\n",
            "54 2.220446049250313e-16\n",
            "55 2.220446049250313e-16\n",
            "56 2.220446049250313e-16\n",
            "57 2.220446049250313e-16\n",
            "58 2.220446049250313e-16\n",
            "59 2.220446049250313e-16\n",
            "60 2.220446049250313e-16\n",
            "61 2.220446049250313e-16\n",
            "62 2.220446049250313e-16\n",
            "63 2.220446049250313e-16\n",
            "64 2.220446049250313e-16\n",
            "65 2.220446049250313e-16\n",
            "66 2.220446049250313e-16\n",
            "67 2.220446049250313e-16\n",
            "68 2.220446049250313e-16\n",
            "69 2.220446049250313e-16\n",
            "70 2.220446049250313e-16\n",
            "71 2.220446049250313e-16\n",
            "72 2.220446049250313e-16\n",
            "73 2.220446049250313e-16\n",
            "74 2.220446049250313e-16\n",
            "75 2.220446049250313e-16\n",
            "76 2.220446049250313e-16\n",
            "77 2.220446049250313e-16\n",
            "78 2.220446049250313e-16\n",
            "79 2.220446049250313e-16\n",
            "80 2.220446049250313e-16\n",
            "81 2.220446049250313e-16\n",
            "82 2.220446049250313e-16\n",
            "83 2.220446049250313e-16\n",
            "84 2.220446049250313e-16\n",
            "85 2.220446049250313e-16\n",
            "86 2.220446049250313e-16\n",
            "87 2.220446049250313e-16\n",
            "88 2.220446049250313e-16\n",
            "89 2.220446049250313e-16\n",
            "90 2.220446049250313e-16\n",
            "91 2.220446049250313e-16\n",
            "92 2.220446049250313e-16\n",
            "93 2.220446049250313e-16\n",
            "94 2.220446049250313e-16\n",
            "95 2.220446049250313e-16\n",
            "96 2.220446049250313e-16\n",
            "97 2.220446049250313e-16\n",
            "98 2.220446049250313e-16\n"
          ]
        }
      ]
    },
    {
      "cell_type": "code",
      "source": [
        "import numpy as np\n",
        "def f1(x):                           #problem 2\n",
        "  return (((x**2+1.0)**0.5)-1.0)\n",
        "def f2(x):\n",
        "  return x**2/(((x**2+1.0)**0.5)+1.0)\n",
        "\n",
        "x=np.array([0.1,0.01,0.001])\n",
        "for i in range(3):\n",
        "  y=(((x[i]**2+1.0)**0.5)-1.0)\n",
        "  print(\"for x=\",x[i])\n",
        "  print(\"value from method 1:\",f1(x[i]))\n",
        "  print(\"fractional error for method1:\",(y-f1(x[i]))/y)\n",
        "  print(\"value from method 2:\",f2(x[i]))\n",
        "  print(\"fractional error for method 2:\",(y-f2(x[i]))/y)\n",
        ""
      ],
      "metadata": {
        "colab": {
          "base_uri": "https://localhost:8080/"
        },
        "id": "XPVezz_5PslO",
        "outputId": "55e41a7f-8ae7-4624-8eb9-04afccb50a6e"
      },
      "execution_count": null,
      "outputs": [
        {
          "output_type": "stream",
          "name": "stdout",
          "text": [
            "for x= 0.1\n",
            "value from method 1: 0.00498756211208895\n",
            "fractional error for method1: 0.0\n",
            "value from method 2: 0.004987562112089027\n",
            "fractional error for method 2: -1.5477540519016434e-14\n",
            "for x= 0.01\n",
            "value from method 1: 4.9998750062396624e-05\n",
            "fractional error for method1: 0.0\n",
            "value from method 2: 4.99987500624961e-05\n",
            "fractional error for method 2: -1.9895607230461395e-12\n",
            "for x= 0.001\n",
            "value from method 1: 4.999998750587764e-07\n",
            "fractional error for method1: 0.0\n",
            "value from method 2: 4.999998750000624e-07\n",
            "fractional error for method 2: 1.1742801846932693e-10\n"
          ]
        }
      ]
    },
    {
      "cell_type": "code",
      "source": [
        "#problem 3\n",
        "import numpy as np\n",
        "x=(((5**0.5)-1))/2\n",
        "n=np.array([16,30,40,50])\n",
        "for i in range(4):\n",
        "  c=x**(n[i]-2)-x**(n[i]-1)\n",
        "\n",
        "  print(\"for n:\",n[i],\"from recursion relation:\",c, \"from formula:\",x**n[i], c==x**n[i])"
      ],
      "metadata": {
        "id": "wrH662rZDhyA",
        "outputId": "5d8898e7-9225-4824-e4e8-31490e4fe43a",
        "colab": {
          "base_uri": "https://localhost:8080/"
        }
      },
      "execution_count": null,
      "outputs": [
        {
          "output_type": "stream",
          "name": "stdout",
          "text": [
            "for n: 16 from recursion relation: 0.00045310385378482263 from formula: 0.00045310385378482274 False\n",
            "for n: 30 from recursion relation: 5.374904998555716e-07 from formula: 5.374904998555718e-07 False\n",
            "for n: 40 from recursion relation: 4.37013033918108e-09 from formula: 4.370130339181083e-09 False\n",
            "for n: 50 from recursion relation: 3.5531863700963574e-11 from formula: 3.5531863700963593e-11 False\n"
          ]
        }
      ]
    },
    {
      "cell_type": "code",
      "source": [
        "import numpy as np                             #problem 4\n",
        "import matplotlib.pyplot as plt\n",
        "import scipy.integrate\n",
        "from math import e\n",
        "d=[]\n",
        "t=[]\n",
        "\n",
        "def f(k):\n",
        "  h= lambda x:((x**k))*(np.exp(x))\n",
        "  s=scipy.integrate.quad(h,0,1)\n",
        "  return(s[0])\n",
        "def y(u):\n",
        "\n",
        "  if (u==0) :\n",
        "     return e-1\n",
        "  else:\n",
        "     return e-((u)*y(u-1))\n",
        "print(f(15))\n",
        "print(y(15))\n",
        "print(f(20))\n",
        "print(y(20))\n",
        "p=[]\n",
        "for i in range (0,25):\n",
        "  p.append(i)\n",
        "  a=f(i)\n",
        "  d.append(a)\n",
        "  g=y(i)\n",
        "  t.append(g)\n",
        "\n",
        "diff=[]\n",
        "for i in range(0,25):\n",
        "  diff.append(d[i]-t[i])\n",
        "plt.plot(p,d,color=\"r\",label=\"actual\")\n",
        "\n",
        "plt.plot(p,t,color=\"blue\",label=\"recursion\")\n",
        "plt.ylim(-.5,.5)\n",
        "\n",
        "\n",
        "plt.plot(p,diff,color=\"green\",label=\"difference\")\n",
        "plt.legend()\n",
        "plt.show()\n",
        "plt.savefig (\"plot.pdf\")\n",
        "\n"
      ],
      "metadata": {
        "colab": {
          "base_uri": "https://localhost:8080/",
          "height": 352
        },
        "id": "90kluBJld5uN",
        "outputId": "1639e50a-d8d3-4e7b-e42a-993ff2d80179"
      },
      "execution_count": null,
      "outputs": [
        {
          "output_type": "stream",
          "name": "stdout",
          "text": [
            "0.16042630893253407\n",
            "0.1604958541638526\n",
            "0.12380383076256998\n",
            "-129.26370813285942\n"
          ]
        },
        {
          "output_type": "display_data",
          "data": {
            "text/plain": [
              "<Figure size 432x288 with 1 Axes>"
            ],
            "image/png": "[encoded data removed]"
          },
          "metadata": {
            "needs_background": "light"
          }
        },
        {
          "output_type": "display_data",
          "data": {
            "text/plain": [
              "<Figure size 432x288 with 0 Axes>"
            ]
          },
          "metadata": {}
        }
      ]
    },
    {
      "cell_type": "code",
      "source": [
        "import numpy as np\n",
        "c=0\n",
        "p=4                  #problem 5(single precision)\n",
        "r=0\n",
        "b=[]\n",
        "s=[]\n",
        "x=(np.array([2.718281823, -3.141592654, 1.414213562, 0.5772156649, 0.3010299957]))\n",
        "y=(np.array([1486.2497, 878366.9879, -22.37492, 4773714.647, 0.000185049]))\n",
        "#dot product\n",
        "k=np.dot(x,y)\n",
        "print(\"dot product:\",k)\n",
        "#forward summation\n",
        "for i in range(5):\n",
        "  f=x[i]*y[i]\n",
        "  r+=f\n",
        "print(\"forward order summation:\",np.float32(r))\n",
        "#reverse summation\n",
        "for i in range(5):\n",
        "  d=x[p-i]*y[p-i]\n",
        "  c+=d\n",
        "print(\"reverse order summation:\",np.float32(c))\n",
        "# 3 sorting and summing\n",
        "for i in range(5):\n",
        "  if(x[i]*y[i]>0):\n",
        "    b.append(x[i]*y[i])\n",
        "  else:\n",
        "    s.append(x[i]*y[i])\n",
        "\n",
        "b.sort()\n",
        "b.reverse()  #descending order\n",
        "\n",
        "z=0\n",
        "for i in range(3):\n",
        "  z+=b[i]\n",
        "\n",
        "s.sort() #ascending order\n",
        "\n",
        "g=0\n",
        "for i in range(2):\n",
        "  g+=s[i]\n",
        "print(\"3rd :\",np.float32(z+g))\n",
        "#4 sorting and adding\n",
        "b.sort() #ascending order\n",
        "\n",
        "z=0\n",
        "for i in range(3):\n",
        "  z+=b[i]\n",
        "\n",
        "s.reverse()  #descending order\n",
        "\n",
        "g=0\n",
        "for i in range(2):\n",
        "  g+=s[i]\n",
        "\n",
        "print(\"4th:\",np.float32(z+g))"
      ],
      "metadata": {
        "colab": {
          "base_uri": "https://localhost:8080/"
        },
        "outputId": "1d245b9c-d4f1-4b94-ae48-39665be14065",
        "id": "s8yKDuG8Vth7"
      },
      "execution_count": null,
      "outputs": [
        {
          "output_type": "stream",
          "name": "stdout",
          "text": [
            "dot product: -7.431385965330528e-06\n",
            "forward order summation: -7.431386e-06\n",
            "reverse order summation: -7.4314053e-06\n",
            "3rd : -7.4314885e-06\n",
            "4th: -7.4314885e-06\n"
          ]
        }
      ]
    },
    {
      "cell_type": "code",
      "source": [
        "import numpy as np\n",
        "r=0\n",
        "c=0\n",
        "p=4                  #problem 5(double precision)\n",
        "b=[]\n",
        "s=[]\n",
        "x=(np.array([2.718281823, -3.141592654, 1.414213562, 0.5772156649, 0.3010299957]))\n",
        "y=(np.array([1486.2497, 878366.9879, -22.37492, 4773714.647, 0.000185049]))\n",
        "#dot product\n",
        "k=np.dot(x,y)\n",
        "print(\"dot product:\",k)\n",
        "#forward summation\n",
        "for i in range(5):\n",
        "  f=x[i]*y[i]\n",
        "  r+=f\n",
        "print(\"forward order summation:\",np.float64(r))\n",
        "#reverse summation\n",
        "for i in range(5):\n",
        "  d=x[p-i]*y[p-i]\n",
        "  c+=d\n",
        "print(\"reverse order summation:\",np.float64(c))\n",
        "# 3 sorting and summing\n",
        "for i in range(5):\n",
        "  if(x[i]*y[i]>0):\n",
        "    b.append(x[i]*y[i])\n",
        "  else:\n",
        "    s.append(x[i]*y[i])\n",
        "\n",
        "b.sort()\n",
        "b.reverse()  #descending order\n",
        "\n",
        "z=0\n",
        "for i in range(3):\n",
        "  z+=b[i]\n",
        "\n",
        "s.sort() #ascending order\n",
        "\n",
        "g=0\n",
        "for i in range(2):\n",
        "  g+=s[i]\n",
        "\n",
        "print(\"3rd summation :\",np.float64(z+g))\n",
        "#4 sorting and adding\n",
        "b.sort() #ascending order\n",
        "\n",
        "z=0\n",
        "for i in range(3):\n",
        "  z+=b[i]\n",
        "\n",
        "s.reverse()  #descending order\n",
        "\n",
        "g=0\n",
        "for i in range(2):\n",
        "  g+=s[i]\n",
        "\n",
        "print(\"4th summation:\",np.float64(z+g))"
      ],
      "metadata": {
        "colab": {
          "base_uri": "https://localhost:8080/"
        },
        "outputId": "388c9c3c-a63e-4c93-f730-60c362acc54c",
        "id": "h5RmKF4FV230"
      },
      "execution_count": null,
      "outputs": [
        {
          "output_type": "stream",
          "name": "stdout",
          "text": [
            "dot product: -7.431385965330528e-06\n",
            "forward order summation: -7.431385965330528e-06\n",
            "reverse order summation: -7.431405265378999e-06\n",
            "3rd summation : -7.431488484144211e-06\n",
            "4th summation: -7.431488484144211e-06\n"
          ]
        }
      ]
    }
  ]
}